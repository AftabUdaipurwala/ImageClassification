{
  "nbformat": 4,
  "nbformat_minor": 0,
  "metadata": {
    "colab": {
      "name": "Celebrity Face Recognition Model.ipynb",
      "provenance": [],
      "authorship_tag": "ABX9TyNr/oRYEesu08IsV/UcVTQ9",
      "include_colab_link": true
    },
    "kernelspec": {
      "name": "python3",
      "display_name": "Python 3"
    },
    "language_info": {
      "name": "python"
    }
  },
  "cells": [
    {
      "cell_type": "markdown",
      "metadata": {
        "id": "view-in-github",
        "colab_type": "text"
      },
      "source": [
        "<a href=\"https://colab.research.google.com/github/AftabUdaipurwala/ImageClassification/blob/main/Celebrity_Face_Recognition_Model.ipynb\" target=\"_parent\"><img src=\"https://colab.research.google.com/assets/colab-badge.svg\" alt=\"Open In Colab\"/></a>"
      ]
    },
    {
      "cell_type": "markdown",
      "metadata": {
        "id": "rza2bsZ6zLPx"
      },
      "source": [
        "# ***Image Processing Algorithm using Support Vector machine***"
      ]
    },
    {
      "cell_type": "markdown",
      "metadata": {
        "id": "MAnnWD-JzTya"
      },
      "source": [
        "***Loading Data in Dataset***"
      ]
    },
    {
      "cell_type": "code",
      "metadata": {
        "colab": {
          "base_uri": "https://localhost:8080/"
        },
        "id": "roD5PhhTzCbS",
        "outputId": "95959b49-619d-41c2-fb62-b093d61e0ff7"
      },
      "source": [
        "from google.colab import drive\n",
        "drive.mount('/content/drive')"
      ],
      "execution_count": 1,
      "outputs": [
        {
          "output_type": "stream",
          "name": "stdout",
          "text": [
            "Mounted at /content/drive\n"
          ]
        }
      ]
    },
    {
      "cell_type": "code",
      "metadata": {
        "colab": {
          "base_uri": "https://localhost:8080/"
        },
        "id": "mqiXeGamzg5V",
        "outputId": "405b72b2-776a-4636-f5ab-2525159046b0"
      },
      "source": [
        "!ls '/content/drive/MyDrive/py-master/DataScience/CelebrityFaceRecognition/images_dataset'"
      ],
      "execution_count": 4,
      "outputs": [
        {
          "output_type": "stream",
          "name": "stdout",
          "text": [
            "lionel_messi  maria_sharapova  roger_federer  serena_williams  virat_kohli\n"
          ]
        }
      ]
    },
    {
      "cell_type": "code",
      "metadata": {
        "id": "SvwqOdUUziNp"
      },
      "source": [
        "import pandas as pd\n",
        "import numpy as np\n",
        "from sklearn import linear_model\n",
        "import matplotlib.pyplot as plt\n",
        "%matplotlib inline\n",
        "import matplotlib\n",
        "matplotlib.rcParams['figure.figsize']=(20,10)"
      ],
      "execution_count": null,
      "outputs": []
    },
    {
      "cell_type": "code",
      "metadata": {
        "id": "m2XnR6bvzjvG"
      },
      "source": [
        "df = pd.read_csv('/content/drive/MyDrive/py-master/DataScience/CelebrityFaceRecognition/')\n",
        "df.head()"
      ],
      "execution_count": null,
      "outputs": []
    },
    {
      "cell_type": "markdown",
      "metadata": {
        "id": "GUeRKw3nzHmO"
      },
      "source": [
        ""
      ]
    }
  ]
}